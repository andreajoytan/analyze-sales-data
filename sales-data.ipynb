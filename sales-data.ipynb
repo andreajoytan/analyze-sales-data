{
 "cells": [
  {
   "cell_type": "code",
   "execution_count": 1,
   "id": "801aeeb5",
   "metadata": {},
   "outputs": [],
   "source": [
    "import numpy as np"
   ]
  },
  {
   "cell_type": "code",
   "execution_count": 2,
   "id": "7f054f76",
   "metadata": {},
   "outputs": [],
   "source": [
    "import pandas as pd"
   ]
  },
  {
   "cell_type": "code",
   "execution_count": 3,
   "id": "c91e3180",
   "metadata": {},
   "outputs": [],
   "source": [
    "import matplotlib.pyplot as plt"
   ]
  },
  {
   "cell_type": "code",
   "execution_count": 4,
   "id": "3048ab94",
   "metadata": {},
   "outputs": [
    {
     "name": "stdout",
     "output_type": "stream",
     "text": [
      "      invoice_no  customer_id         category  quantity    price  \\\n",
      "0        I138884          229         Clothing         5  1500.40   \n",
      "1        I317333         3433            Shoes         3  1800.51   \n",
      "2        I127801          644         Clothing         1   300.08   \n",
      "3        I173702         4900            Shoes         5  3000.85   \n",
      "4        I337046         1089            Books         4    60.60   \n",
      "...          ...          ...              ...       ...      ...   \n",
      "99452    I219422         2344         Souvenir         5    58.65   \n",
      "99453    I325143          172  Food & Beverage         2    10.46   \n",
      "99454    I824010          425  Food & Beverage         2    10.46   \n",
      "99455    I702964          577       Technology         4  4200.00   \n",
      "99456    I232867           30         Souvenir         3    35.19   \n",
      "\n",
      "      payment_method invoice_date     shopping_mall  \n",
      "0        Credit Card     5/8/2022            Kanyon  \n",
      "1         Debit Card   12/12/2021    Forum Istanbul  \n",
      "2               Cash    9/11/2021         Metrocity  \n",
      "3        Credit Card   16/05/2021      Metropol AVM  \n",
      "4               Cash   24/10/2021            Kanyon  \n",
      "...              ...          ...               ...  \n",
      "99452    Credit Card   21/09/2022            Kanyon  \n",
      "99453           Cash   22/09/2021    Forum Istanbul  \n",
      "99454     Debit Card   28/03/2021         Metrocity  \n",
      "99455           Cash   16/03/2021      Istinye Park  \n",
      "99456    Credit Card   15/10/2022  Mall of Istanbul  \n",
      "\n",
      "[99457 rows x 8 columns]\n"
     ]
    }
   ],
   "source": [
    "df1 = pd.read_csv('fct_invoice.csv')\n",
    "print(df1)"
   ]
  },
  {
   "cell_type": "code",
   "execution_count": 5,
   "id": "205178cf",
   "metadata": {},
   "outputs": [
    {
     "name": "stdout",
     "output_type": "stream",
     "text": [
      "       age first_name gender     id last_name\n",
      "0     48.0   Nicholas      M      0    Flores\n",
      "1      NaN    Jeffery      M      1      Rowe\n",
      "2     57.0     Alexis      F      2    Benton\n",
      "3     73.0        Amy      F      3   Johnson\n",
      "4     20.0      David      M      4     Moore\n",
      "...    ...        ...    ...    ...       ...\n",
      "5186   NaN     Arthur      M   9428    Harris\n",
      "5187   NaN      David      M   9494       Roy\n",
      "5188  85.0     Thomas      M  10350    Turner\n",
      "5189   NaN      April      F  10587   Sanchez\n",
      "5190   NaN     Andrew      M  10934   Compton\n",
      "\n",
      "[5191 rows x 5 columns]\n"
     ]
    }
   ],
   "source": [
    "df2 = pd.read_json('dim_customer.json')\n",
    "print(df2)"
   ]
  },
  {
   "cell_type": "markdown",
   "id": "3a0e33ed",
   "metadata": {},
   "source": [
    "# Easy"
   ]
  },
  {
   "cell_type": "markdown",
   "id": "fd896b11",
   "metadata": {},
   "source": [
    "### 1. How many unique customers are in the dataset?"
   ]
  },
  {
   "cell_type": "code",
   "execution_count": 6,
   "id": "cf607baa",
   "metadata": {},
   "outputs": [
    {
     "name": "stdout",
     "output_type": "stream",
     "text": [
      "       age first_name gender     id last_name        Full Name\n",
      "0     48.0   Nicholas      M      0    Flores  Nicholas Flores\n",
      "1      NaN    Jeffery      M      1      Rowe     Jeffery Rowe\n",
      "2     57.0     Alexis      F      2    Benton    Alexis Benton\n",
      "3     73.0        Amy      F      3   Johnson      Amy Johnson\n",
      "4     20.0      David      M      4     Moore      David Moore\n",
      "...    ...        ...    ...    ...       ...              ...\n",
      "5186   NaN     Arthur      M   9428    Harris    Arthur Harris\n",
      "5187   NaN      David      M   9494       Roy        David Roy\n",
      "5188  85.0     Thomas      M  10350    Turner    Thomas Turner\n",
      "5189   NaN      April      F  10587   Sanchez    April Sanchez\n",
      "5190   NaN     Andrew      M  10934   Compton   Andrew Compton\n",
      "\n",
      "[5191 rows x 6 columns]\n"
     ]
    }
   ],
   "source": [
    "df2['Full Name'] = df2['first_name'] + \" \" + df2['last_name']\n",
    "\n",
    "print(df2)"
   ]
  },
  {
   "cell_type": "code",
   "execution_count": 7,
   "id": "2923a953",
   "metadata": {},
   "outputs": [],
   "source": [
    "df2.to_json('modified_dim_customer.json')"
   ]
  },
  {
   "cell_type": "code",
   "execution_count": 8,
   "id": "aa3db790",
   "metadata": {},
   "outputs": [],
   "source": [
    "df2 = pd.read_json('modified_dim_customer.json')"
   ]
  },
  {
   "cell_type": "code",
   "execution_count": 9,
   "id": "c0ab1713",
   "metadata": {},
   "outputs": [
    {
     "data": {
      "text/plain": [
       "4992"
      ]
     },
     "execution_count": 9,
     "metadata": {},
     "output_type": "execute_result"
    }
   ],
   "source": [
    "df2['Full Name'].nunique()"
   ]
  },
  {
   "cell_type": "markdown",
   "id": "a8694647",
   "metadata": {},
   "source": [
    "4992"
   ]
  },
  {
   "cell_type": "markdown",
   "id": "606882e9",
   "metadata": {},
   "source": [
    "There are 4992 unique customers."
   ]
  },
  {
   "cell_type": "markdown",
   "id": "5f34bc3a",
   "metadata": {},
   "source": [
    "### 2. What are the different categories of products available? How many unique categories are there? "
   ]
  },
  {
   "cell_type": "code",
   "execution_count": 10,
   "id": "28b1d0b8",
   "metadata": {},
   "outputs": [
    {
     "data": {
      "text/plain": [
       "array(['Clothing', 'Shoes', 'Books', 'Cosmetics', 'Food & Beverage',\n",
       "       'Toys', 'Technology', 'Souvenir'], dtype=object)"
      ]
     },
     "execution_count": 10,
     "metadata": {},
     "output_type": "execute_result"
    }
   ],
   "source": [
    "df1['category'].unique()"
   ]
  },
  {
   "cell_type": "markdown",
   "id": "33939ddc",
   "metadata": {},
   "source": [
    "array(['Clothing', 'Shoes', 'Books', 'Cosmetics', 'Food & Beverage',\n",
    "       'Toys', 'Technology', 'Souvenir'], dtype=object)\n"
   ]
  },
  {
   "cell_type": "code",
   "execution_count": 11,
   "id": "26ba0d0b",
   "metadata": {},
   "outputs": [
    {
     "data": {
      "text/plain": [
       "8"
      ]
     },
     "execution_count": 11,
     "metadata": {},
     "output_type": "execute_result"
    }
   ],
   "source": [
    "df1['category'].nunique()"
   ]
  },
  {
   "cell_type": "markdown",
   "id": "b329a62e",
   "metadata": {},
   "source": [
    "8"
   ]
  },
  {
   "cell_type": "markdown",
   "id": "701e8391",
   "metadata": {},
   "source": [
    "The different categories of products available are: Clothing, Shoes, Books, Cosmetics, Food & Beverage, Toys, Technology, and Souvenir. There are 8 unique categories."
   ]
  },
  {
   "cell_type": "markdown",
   "id": "53bc64d4",
   "metadata": {},
   "source": [
    "### 3. Which payment method is the most popular? How many times was it used? "
   ]
  },
  {
   "cell_type": "code",
   "execution_count": 12,
   "id": "9699538e",
   "metadata": {
    "scrolled": true
   },
   "outputs": [
    {
     "data": {
      "text/plain": [
       "payment_method\n",
       "Cash           44447\n",
       "Credit Card    34931\n",
       "Debit Card     20079\n",
       "Name: invoice_no, dtype: int64"
      ]
     },
     "execution_count": 12,
     "metadata": {},
     "output_type": "execute_result"
    }
   ],
   "source": [
    "df1.groupby(['payment_method']).count()['invoice_no'].sort_values(ascending=False)"
   ]
  },
  {
   "cell_type": "markdown",
   "id": "b2926b06",
   "metadata": {},
   "source": [
    "payment_method\n",
    "\n",
    "Cash           44447\n",
    "\n",
    "Credit Card    34931\n",
    "\n",
    "Debit Card     20079\n",
    "\n",
    "Name: invoice_no, dtype: int64"
   ]
  },
  {
   "cell_type": "markdown",
   "id": "ec9d6173",
   "metadata": {},
   "source": [
    "The most popular payment method is Cash. It was used 44,447 times."
   ]
  },
  {
   "cell_type": "markdown",
   "id": "52c55093",
   "metadata": {},
   "source": [
    "# Medium"
   ]
  },
  {
   "cell_type": "markdown",
   "id": "81503403",
   "metadata": {},
   "source": [
    "### 1. What are the three most popular categories, by total sales?"
   ]
  },
  {
   "cell_type": "code",
   "execution_count": 13,
   "id": "0cf50a40",
   "metadata": {},
   "outputs": [
    {
     "data": {
      "text/plain": [
       "category\n",
       "Clothing           31075684.64\n",
       "Shoes              18135336.89\n",
       "Technology         15772050.00\n",
       "Cosmetics           1848606.90\n",
       "Toys                1086704.64\n",
       "Food & Beverage      231568.71\n",
       "Books                226977.30\n",
       "Souvenir             174436.83\n",
       "Name: price, dtype: float64"
      ]
     },
     "execution_count": 13,
     "metadata": {},
     "output_type": "execute_result"
    }
   ],
   "source": [
    "df1.groupby(['category']).sum(['price']).sort_values('price',ascending=False)['price']"
   ]
  },
  {
   "cell_type": "markdown",
   "id": "cf1c757f",
   "metadata": {},
   "source": [
    "category\n",
    "\n",
    "Clothing           31075684.64\n",
    "\n",
    "Shoes              18135336.89\n",
    "\n",
    "Technology         15772050.00\n",
    "\n",
    "Cosmetics           1848606.90\n",
    "\n",
    "Toys                1086704.64\n",
    "\n",
    "Food & Beverage      231568.71\n",
    "\n",
    "Books                226977.30\n",
    "\n",
    "Souvenir             174436.83\n",
    "\n",
    "Name: price, dtype: float64"
   ]
  },
  {
   "cell_type": "markdown",
   "id": "71f87648",
   "metadata": {},
   "source": [
    "The three most popular categories, by total sales, are:\n",
    "1. Clothing (31075684.64)\n",
    "2. Shoes (18135336.89)\n",
    "3. Technology (15772050.00)"
   ]
  },
  {
   "cell_type": "markdown",
   "id": "6459f5c2",
   "metadata": {},
   "source": [
    "### 2. What are the total sales attributed to customers over the age of 45?"
   ]
  },
  {
   "cell_type": "code",
   "execution_count": 14,
   "id": "053e954e",
   "metadata": {
    "scrolled": true
   },
   "outputs": [],
   "source": [
    "joined_df = pd.merge(df1, df2, left_on = \"customer_id\", right_on = \"id\")"
   ]
  },
  {
   "cell_type": "code",
   "execution_count": 15,
   "id": "667c3263",
   "metadata": {},
   "outputs": [],
   "source": [
    "joined_df.to_csv('joined_data.csv')"
   ]
  },
  {
   "cell_type": "code",
   "execution_count": 16,
   "id": "3e59d333",
   "metadata": {},
   "outputs": [],
   "source": [
    "joined_df = pd.read_csv('joined_data.csv')"
   ]
  },
  {
   "cell_type": "code",
   "execution_count": 17,
   "id": "44699f2f",
   "metadata": {},
   "outputs": [],
   "source": [
    "filtered_df = joined_df[joined_df['age']>45] "
   ]
  },
  {
   "cell_type": "code",
   "execution_count": 18,
   "id": "d08e8c42",
   "metadata": {},
   "outputs": [],
   "source": [
    "filtered_df.to_json('filtered_dim_customer.json')"
   ]
  },
  {
   "cell_type": "code",
   "execution_count": 19,
   "id": "913a711a",
   "metadata": {},
   "outputs": [],
   "source": [
    "filtered_df = pd.read_json('filtered_dim_customer.json')"
   ]
  },
  {
   "cell_type": "code",
   "execution_count": 20,
   "id": "88959eec",
   "metadata": {},
   "outputs": [
    {
     "data": {
      "text/plain": [
       "22370553.27"
      ]
     },
     "execution_count": 20,
     "metadata": {},
     "output_type": "execute_result"
    }
   ],
   "source": [
    "filtered_df['price'].sum()"
   ]
  },
  {
   "cell_type": "markdown",
   "id": "9102777c",
   "metadata": {},
   "source": [
    "22370553.27"
   ]
  },
  {
   "cell_type": "markdown",
   "id": "77a51d89",
   "metadata": {},
   "source": [
    "The total sales attributed to customers over the age of 45 is 22370553.27"
   ]
  },
  {
   "cell_type": "markdown",
   "id": "4295e748",
   "metadata": {},
   "source": [
    "### 3. How is the data distributed across different invoice dates? Are there any seasonal trends or patterns? (Use a graph for this.) "
   ]
  },
  {
   "cell_type": "code",
   "execution_count": 21,
   "id": "99b85b05",
   "metadata": {},
   "outputs": [],
   "source": [
    "import matplotlib.dates as mdates\n",
    "from datetime import datetime"
   ]
  },
  {
   "cell_type": "code",
   "execution_count": 22,
   "id": "bdd38d4b",
   "metadata": {},
   "outputs": [
    {
     "name": "stdout",
     "output_type": "stream",
     "text": [
      "       Unnamed: 0 invoice_no  customer_id   category  quantity    price  \\\n",
      "0               0    I138884          229   Clothing         5  1500.40   \n",
      "1               1    I126377          229  Cosmetics         2    81.32   \n",
      "2               2    I178419          229      Shoes         3  1800.51   \n",
      "3               3    I847727          229   Clothing         3   900.24   \n",
      "4               4    I219251          229      Shoes         5  3000.85   \n",
      "...           ...        ...          ...        ...       ...      ...   \n",
      "99452       99452    I198027         4973      Shoes         1   600.17   \n",
      "99453       99453    I989120         6161      Books         5    75.75   \n",
      "99454       99454    I791963         6779   Clothing         5  1500.40   \n",
      "99455       99455    I100582         8386   Clothing         2   600.16   \n",
      "99456       99456    I934204         4761  Cosmetics         4   162.64   \n",
      "\n",
      "      payment_method invoice_date   shopping_mall   age first_name gender  \\\n",
      "0        Credit Card   2022-08-05          Kanyon   NaN    William      M   \n",
      "1        Credit Card   2021-04-05       Metrocity   NaN    William      M   \n",
      "2         Debit Card   2021-06-01    Istinye Park   NaN    William      M   \n",
      "3        Credit Card   2022-08-21    Zorlu Center   NaN    William      M   \n",
      "4        Credit Card   2022-06-23    Istinye Park   NaN    William      M   \n",
      "...              ...          ...             ...   ...        ...    ...   \n",
      "99452           Cash   2021-11-08          Kanyon   NaN    Melissa      F   \n",
      "99453           Cash   2021-01-08  Viaport Outlet  36.0     Leslie      F   \n",
      "99454    Credit Card   2021-03-06    Metropol AVM   NaN      Kelly      F   \n",
      "99455           Cash   2021-11-02    Istinye Park  47.0      Shawn      M   \n",
      "99456           Cash   2022-08-31  Forum Istanbul  52.0     Ashley      F   \n",
      "\n",
      "         id last_name         Full Name year_month  \n",
      "0       229  Anderson  William Anderson    2022/08  \n",
      "1       229  Anderson  William Anderson    2021/04  \n",
      "2       229  Anderson  William Anderson    2021/06  \n",
      "3       229  Anderson  William Anderson    2022/08  \n",
      "4       229  Anderson  William Anderson    2022/06  \n",
      "...     ...       ...               ...        ...  \n",
      "99452  4973      Bell      Melissa Bell    2021/11  \n",
      "99453  6161      Bass       Leslie Bass    2021/01  \n",
      "99454  6779   Roberts     Kelly Roberts    2021/03  \n",
      "99455  8386     Perez       Shawn Perez    2021/11  \n",
      "99456  4761   Jackson    Ashley Jackson    2022/08  \n",
      "\n",
      "[99457 rows x 16 columns]\n"
     ]
    }
   ],
   "source": [
    "joined_df['invoice_date'] = pd.to_datetime(joined_df['invoice_date'], format='%d/%m/%Y')\n",
    "joined_df['year_month'] = joined_df['invoice_date'].dt.strftime('%Y/%m')\n",
    "\n",
    "print(joined_df)"
   ]
  },
  {
   "cell_type": "code",
   "execution_count": 56,
   "id": "4b11346c",
   "metadata": {},
   "outputs": [
    {
     "data": {
      "text/plain": [
       "Text(0.5, 1.0, 'Monthly Orders')"
      ]
     },
     "execution_count": 56,
     "metadata": {},
     "output_type": "execute_result"
    },
    {
     "data": {
      "image/png": "[encoded data removed]",
      "text/plain": [
       "<Figure size 3000x1800 with 1 Axes>"
      ]
     },
     "metadata": {},
     "output_type": "display_data"
    }
   ],
   "source": [
    "x = joined_df.groupby(['year_month'])\n",
    "y = joined_df.groupby(['year_month']).count()['invoice_no']\n",
    "\n",
    "x_values = x.groups.keys()\n",
    "y_values = y.values\n",
    "\n",
    "plt.figure(figsize=(30, 18))\n",
    "plt.plot(x_values,y_values)\n",
    "plt.grid()\n",
    "plt.xlabel('Month and Year')\n",
    "plt.ylabel('Number of Orders')\n",
    "plt.title('Monthly Orders')"
   ]
  },
  {
   "cell_type": "markdown",
   "id": "e524a1bc",
   "metadata": {},
   "source": [
    "The month of February always has the fastest rate of decline in orders from the previous month. Among all the months, February had the least number of orders in both 2021 and 2022. The 2023 data is still incomplete, but it also exprienced a decrease in the number of orders from January. Then, March has the sharpest increase in orders from February in both 2021 and 2022. However, the database does not include all orders for March 2023, which explains the suddent plummeting number of orders. "
   ]
  },
  {
   "cell_type": "markdown",
   "id": "85e7ab2a",
   "metadata": {},
   "source": [
    "# Hard"
   ]
  },
  {
   "cell_type": "markdown",
   "id": "7b5e5da2",
   "metadata": {},
   "source": [
    "### 1. Create a pivot table showing the breakdown of sales across these dimensions, in this order: category, decade age range (e.g., 10-19, 20-29, and so forth).\n",
    "\n",
    " "
   ]
  },
  {
   "cell_type": "code",
   "execution_count": 28,
   "id": "5f01d14c",
   "metadata": {},
   "outputs": [],
   "source": [
    "age_range = pd.cut(joined_df['age'], bins = [9, 19, 29, 39, 49, 59, 69, 79, 89], labels = ['10-19','20-29','30-39','40-49','50-59','60-69','70-79','80-89'])\n",
    "pivot_table = joined_df.pivot_table(values = 'price', index = 'category', columns = age_range, aggfunc = np.sum)"
   ]
  },
  {
   "cell_type": "code",
   "execution_count": 30,
   "id": "0c77f1d4",
   "metadata": {},
   "outputs": [
    {
     "name": "stdout",
     "output_type": "stream",
     "text": [
      "age                  10-19       20-29       30-39       40-49       50-59  \\\n",
      "category                                                                     \n",
      "Books              3469.35    21619.05    22997.70    23361.30    20664.60   \n",
      "Clothing         518238.16  2818351.36  3074919.76  3066817.60  2803647.44   \n",
      "Cosmetics         29681.80   165079.60   198054.86   181343.60   160932.28   \n",
      "Food & Beverage    3645.31    20428.38    23744.20    24460.71    19999.52   \n",
      "Shoes            274277.69  1630061.72  1912141.62  1889335.16  1591650.84   \n",
      "Souvenir           3296.13    15295.92    17548.08    17759.22    15084.78   \n",
      "Technology       287700.00  1426950.00  1669500.00  1630650.00  1220100.00   \n",
      "Toys              17203.20   102466.56   115297.28   106910.72    94115.84   \n",
      "\n",
      "age                   60-69       70-79       80-89  \n",
      "category                                             \n",
      "Books              21513.00    15437.85     7575.00  \n",
      "Clothing         2910776.00  2117064.40  1228827.60  \n",
      "Cosmetics         176627.04   114132.62    71236.32  \n",
      "Food & Beverage    22190.89    14968.26     8561.51  \n",
      "Shoes            1618058.32  1210542.89   708200.60  \n",
      "Souvenir           15331.11    10592.19     6545.34  \n",
      "Technology       1529850.00   977550.00   548100.00  \n",
      "Toys              100244.48    74475.52    43043.84  \n"
     ]
    }
   ],
   "source": [
    "print(pivot_table)"
   ]
  }
 ],
 "metadata": {
  "kernelspec": {
   "display_name": "Python 3 (ipykernel)",
   "language": "python",
   "name": "python3"
  },
  "language_info": {
   "codemirror_mode": {
    "name": "ipython",
    "version": 3
   },
   "file_extension": ".py",
   "mimetype": "text/x-python",
   "name": "python",
   "nbconvert_exporter": "python",
   "pygments_lexer": "ipython3",
   "version": "3.10.9"
  }
 },
 "nbformat": 4,
 "nbformat_minor": 5
}
